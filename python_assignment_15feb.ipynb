{
 "cells": [
  {
   "cell_type": "code",
   "execution_count": 15,
   "metadata": {},
   "outputs": [
    {
     "name": "stdout",
     "output_type": "stream",
     "text": [
      "[4]\n",
      "integer is entered\n"
     ]
    }
   ],
   "source": [
    "#1. Create the empty list and ask user to enters only int, float elements in the list.\n",
    "int1=input('enter number').split()\n",
    "l1=[]\n",
    "#float1=float(input(\"enter float value\"))\n",
    "a = input()\n",
    "if a.isnumeric():\n",
    "    l1.append(int(a))\n",
    "    print(l1)\n",
    "    print('integer is entered')\n",
    "# elif :\n",
    "#     l1.append()\n",
    "#     print('float is entered')\n",
    "# else:\n",
    "#     print(\"error\")"
   ]
  },
  {
   "cell_type": "code",
   "execution_count": 13,
   "metadata": {},
   "outputs": [
    {
     "data": {
      "text/plain": [
       "['4,6,4']"
      ]
     },
     "execution_count": 13,
     "metadata": {},
     "output_type": "execute_result"
    }
   ],
   "source": [
    "a = input().split(\" \")\n",
    "\n",
    "list(a)"
   ]
  },
  {
   "cell_type": "code",
   "execution_count": null,
   "metadata": {},
   "outputs": [
    {
     "ename": "SyntaxError",
     "evalue": "invalid syntax (261017091.py, line 7)",
     "output_type": "error",
     "traceback": [
      "\u001b[1;36m  Cell \u001b[1;32mIn[21], line 7\u001b[1;36m\u001b[0m\n\u001b[1;33m    else:\u001b[0m\n\u001b[1;37m    ^\u001b[0m\n\u001b[1;31mSyntaxError\u001b[0m\u001b[1;31m:\u001b[0m invalid syntax\n"
     ]
    }
   ],
   "source": [
    "int1=(input(\"enter only number\"))\n",
    "l1=[]\n",
    "try:\n",
    "    if int1.isnumeric():\n",
    "        l1.append(int(int1))\n",
    "    print(l1)\n",
    "    else:\n",
    "        int1=float(int1)\n",
    "        l1.append(int1)\n",
    "    print(l1)\n",
    "except ValueError:\n",
    "   print(\"error\")\n",
    "\n"
   ]
  },
  {
   "cell_type": "code",
   "execution_count": null,
   "metadata": {},
   "outputs": [
    {
     "name": "stdout",
     "output_type": "stream",
     "text": [
      "[5.6]\n"
     ]
    }
   ],
   "source": [
    "int1 = input(\"Enter only a number: \")  \n",
    "l1 = []  \n",
    "\n",
    "try:\n",
    "    if int1.isnumeric():  \n",
    "        l1.append(int(int1)) \n",
    "    else:\n",
    "        int1 = float(int1)  \n",
    "        l1.append(int1) \n",
    "    print(l1)\n",
    "\n",
    "except ValueError:\n",
    "    print(\"Error: Please enter a valid number!\") \n"
   ]
  },
  {
   "cell_type": "code",
   "execution_count": 30,
   "metadata": {},
   "outputs": [
    {
     "name": "stdout",
     "output_type": "stream",
     "text": [
      "{'5': 'w', '': '', 't': 'u'}\n"
     ]
    }
   ],
   "source": [
    "#2.Create a empty dictionary d1 ask user to enter the values using loop\n",
    "d1={}\n",
    "n=int(input('enter number of pairs'))\n",
    "k=input('enter key')\n",
    "for i in range(n):\n",
    "    k=input('enter key')\n",
    "    v=input('enter value')\n",
    "    d1[k]=v\n",
    "print(d1)"
   ]
  },
  {
   "cell_type": "code",
   "execution_count": null,
   "metadata": {},
   "outputs": [
    {
     "name": "stdout",
     "output_type": "stream",
     "text": [
      "{'t'}\n"
     ]
    }
   ],
   "source": [
    "# 3.Create a empty dictionary d1 ask user to enter the values using comprehensive list\n",
    "d1={}\n",
    "k1=input(\"enter keys\").split(\",\")\n",
    "v1=input('enter value').split(\",\")\n",
    "d1={k:v for k,v in zip(k1,v1)}\n",
    "print(d1)"
   ]
  },
  {
   "cell_type": "code",
   "execution_count": null,
   "metadata": {},
   "outputs": [
    {
     "name": "stdout",
     "output_type": "stream",
     "text": [
      "<function <lambda> at 0x0000025B5D654220>\n"
     ]
    }
   ],
   "source": [
    "#4. Create a function which will accept two integer or float parameter from user and \n",
    "# return 4 arithmetic operations in the form of tuple. \n",
    "#If user pass argument other than integer and float then error should be created.\n",
    "li=[1,2,3,4]\n",
    "a=lambda x,y :(x+y,x-y,x*y,x//y,)\n",
    "print(a)"
   ]
  },
  {
   "cell_type": "code",
   "execution_count": null,
   "metadata": {},
   "outputs": [
    {
     "ename": "SyntaxError",
     "evalue": "incomplete input (2841446793.py, line 8)",
     "output_type": "error",
     "traceback": [
      "\u001b[1;36m  Cell \u001b[1;32mIn[43], line 8\u001b[1;36m\u001b[0m\n\u001b[1;33m    div=num1//num2\u001b[0m\n\u001b[1;37m                  ^\u001b[0m\n\u001b[1;31mSyntaxError\u001b[0m\u001b[1;31m:\u001b[0m incomplete input\n"
     ]
    }
   ],
   "source": [
    "def calculation(num1,num2):\n",
    "    if \n",
    "    try:\n",
    "        num1=int(input('enter num1'))\n",
    "        num2=int (input ('enter num2'))\n",
    "        sum=num1+num2\n",
    "        sub=num1-num2\n",
    "        mul=num1*num2\n",
    "        div=num1//num2\n",
    "    except ValueError:\n",
    "        print('enter valid input')"
   ]
  },
  {
   "cell_type": "code",
   "execution_count": null,
   "metadata": {},
   "outputs": [],
   "source": [
    "def calculation(a=int|float,b=int|float):\n",
    "    if isinstance(a,(int,float)) and isinstance (b,(int,float)):\n",
    "        return \n",
    "    else:\n",
    "        raise ValueError(\"enter only integer or number\")\n",
    "    try:\n",
    "\n"
   ]
  },
  {
   "cell_type": "code",
   "execution_count": 45,
   "metadata": {},
   "outputs": [
    {
     "data": {
      "text/plain": [
       "(5, 1, 6, 1)"
      ]
     },
     "execution_count": 45,
     "metadata": {},
     "output_type": "execute_result"
    }
   ],
   "source": [
    "calculation(3,2)"
   ]
  },
  {
   "cell_type": "code",
   "execution_count": 47,
   "metadata": {},
   "outputs": [
    {
     "data": {
      "text/plain": [
       "(7.5, -1.5, 13.5, 0.0)"
      ]
     },
     "execution_count": 47,
     "metadata": {},
     "output_type": "execute_result"
    }
   ],
   "source": [
    "calculation(3,4.5)"
   ]
  },
  {
   "cell_type": "code",
   "execution_count": null,
   "metadata": {},
   "outputs": [],
   "source": [
    "#5. Based on the above function (Question number 4) dived the outcome of multiplication by 2.\n",
    "def calculation(a=int|float,b=int|float):\n",
    "    if isinstance(a,(int,float)) and isinstance (b,(int,float)):\n",
    "        return \n",
    "    else:\n",
    "        raise ValueError(\"enter only integer or number\")\n",
    "\n",
    "\n"
   ]
  },
  {
   "cell_type": "code",
   "execution_count": null,
   "metadata": {},
   "outputs": [],
   "source": [
    "#6. create a function to add only string element in a list. \n",
    "# if other than string display the appropriate message."
   ]
  },
  {
   "cell_type": "code",
   "execution_count": 72,
   "metadata": {},
   "outputs": [],
   "source": [
    "li=[]\n",
    "def str_input(li):\n",
    "    while True:\n",
    "        try:\n",
    "            ele=eval(input('enter elements'))\n",
    "            if type(ele) == str:\n",
    "                li.append(ele)\n",
    "                print(li)\n",
    "                print('string is entered')\n",
    "                break\n",
    "            else:\n",
    "                print(\"enter string or charcter only\")\n",
    "                break\n",
    "        except:\n",
    "            print(\"plz check string\")"
   ]
  },
  {
   "cell_type": "code",
   "execution_count": 73,
   "metadata": {},
   "outputs": [
    {
     "name": "stdout",
     "output_type": "stream",
     "text": [
      "['susj']\n",
      "string is entered\n"
     ]
    }
   ],
   "source": [
    "str_input(li)"
   ]
  },
  {
   "cell_type": "code",
   "execution_count": 74,
   "metadata": {},
   "outputs": [],
   "source": [
    "#7. Create a function to read the file and return the dictionary of total lines, total words\n",
    "import os"
   ]
  },
  {
   "cell_type": "code",
   "execution_count": 103,
   "metadata": {},
   "outputs": [],
   "source": [
    "def reading():\n",
    "    df=(r\"D:\\BIZ_SQL\\SQL_Exam.txt\")\n",
    "    with open(df,'r') as file:\n",
    "        tot_lines=file.readlines()\n",
    "        t_line=len(tot_lines)\n",
    "        tot_words=sum(len(i.split()) for i in tot_lines)\n",
    "\n",
    "        return {\n",
    "            'total_lines':t_line,\n",
    "             'total_words':tot_words\n",
    "        }\n"
   ]
  },
  {
   "cell_type": "code",
   "execution_count": 104,
   "metadata": {},
   "outputs": [
    {
     "data": {
      "text/plain": [
       "{'total_lines': 120, 'total_words': 517}"
      ]
     },
     "execution_count": 104,
     "metadata": {},
     "output_type": "execute_result"
    }
   ],
   "source": [
    "reading()"
   ]
  },
  {
   "cell_type": "code",
   "execution_count": null,
   "metadata": {},
   "outputs": [],
   "source": [
    "#8 Create a function which will accept the dictionary and display key values in separate line.\n",
    "def d1():\n",
    "    di={}\n",
    "    n=int(input(\"enter no of pair\"))\n",
    "    for i in range (n):\n",
    "        key=input(\"enter key\")\n",
    "        value=input(\"enter value\")\n",
    "        di[key]=value\n",
    "        for key,value in di.items():\n",
    "            print(f\"key:{key}  \\n value:{value}\")\n",
    "        \n",
    "    \n",
    "        \n",
    "    "
   ]
  },
  {
   "cell_type": "code",
   "execution_count": 2,
   "metadata": {},
   "outputs": [
    {
     "name": "stdout",
     "output_type": "stream",
     "text": [
      "key:ert , \n",
      " value:456\n"
     ]
    }
   ],
   "source": [
    "d1()"
   ]
  },
  {
   "cell_type": "code",
   "execution_count": null,
   "metadata": {},
   "outputs": [],
   "source": [
    "# 9Create a lambda function which will accept the dictionary \n",
    "# and display key values in separate line. \n",
    "#d1={'a':12,'b':13,'c':4}\n",
    "\n",
    "\n",
    "d1 = {}\n",
    "n = int(input(\"Enter the number of key value pairs\"))\n",
    "\n",
    "for i in range(n):\n",
    "    key = input(\"Enter key: \")\n",
    "    value = input(\"Enter value: \")\n",
    "    d1[key] = value \n",
    "\n",
    "d2 = lambda d : [print(\"Key:\", k, \", Value:\", v) for k, v in d.items()]\n",
    "\n",
    "d2(d1)\n"
   ]
  },
  {
   "cell_type": "code",
   "execution_count": 18,
   "metadata": {},
   "outputs": [],
   "source": [
    "#10.Create a function to validate the password: password should contains at least one small letter, \n",
    "# one capital letter, one number, and one special character except comma, quotes \n",
    "import re"
   ]
  },
  {
   "cell_type": "code",
   "execution_count": 23,
   "metadata": {},
   "outputs": [],
   "source": [
    "def password():\n",
    "    try:\n",
    "        pass_word=input('enter password')\n",
    "        #pattern=\"[A-Z]{1}+[a-z]{1}+[0-9]*+[!,@,#,$,^,&,*,(,)]*+{1}[A-z]*+[0-9]{1}\"\n",
    "        pat2 = \"(?=.*[A-Za-z])(?=.*[0-9])(?=.*[!@#$%^&*()])[A-Za-z0-9!@#$%^&*()]{8,}\"\n",
    "        if re.fullmatch(pat2,pass_word):\n",
    "            print(\"password can be validate\")\n",
    "        else:\n",
    "            print(\"must input on char,one number\")\n",
    "    except Exception as e:\n",
    "        print('error')"
   ]
  },
  {
   "cell_type": "code",
   "execution_count": 24,
   "metadata": {},
   "outputs": [
    {
     "name": "stdout",
     "output_type": "stream",
     "text": [
      "must input on char,one number\n"
     ]
    }
   ],
   "source": [
    "password()"
   ]
  },
  {
   "cell_type": "code",
   "execution_count": 17,
   "metadata": {},
   "outputs": [
    {
     "data": {
      "text/plain": [
       "<re.Match object; span=(0, 10), match='Rughwed30@'>"
      ]
     },
     "execution_count": 17,
     "metadata": {},
     "output_type": "execute_result"
    }
   ],
   "source": [
    "re.fullmatch(\"(?=.*[A-Za-z])(?=.*[0-9])(?=.*[!@#$%^&*()])[A-Za-z0-9!@#$%^&*()]{8,}\",\"Rughwed30@\")"
   ]
  },
  {
   "cell_type": "code",
   "execution_count": null,
   "metadata": {},
   "outputs": [
    {
     "name": "stdout",
     "output_type": "stream",
     "text": [
      "Factorial   is: 5040\n"
     ]
    }
   ],
   "source": [
    "#11. Generate a decorator having logic to accept natural numbers .\n",
    "#which can be used in a function of factorial \n",
    "def natural(fact):\n",
    "    def check(n):\n",
    "        if isinstance(n, int) and n > 0: \n",
    "            return fact(n)\n",
    "        else:\n",
    "            raise ValueError(\"Input must be a natural number ,greater than 0\")\n",
    "    return check\n",
    "\n",
    "@natural\n",
    "def factorial(n):\n",
    "    if n == 1:\n",
    "        return 1\n",
    "    else:\n",
    "        return n * factorial(n - 1)\n",
    "try:\n",
    "    num = int(input(\"Enter a natural number: \"))\n",
    "    print(f\"Factorial is: {factorial(num)}\")\n",
    "except ValueError as e:\n",
    "    print(e)\n"
   ]
  },
  {
   "cell_type": "code",
   "execution_count": 16,
   "metadata": {},
   "outputs": [],
   "source": [
    "# 12 Generate the decorator for a Garden visit to check if current time is between 7am to 7pm.\n",
    "#   If true the only call the function else generate the error.  \n",
    "\n",
    "#Function payment_check() is active only within given time span and\n",
    "#it will check for all user transaction in that given month. \n",
    "#Function entry() will be perform entry transaction of the user \n",
    "#Function exit() will update the outtime of the user if entry exists   "
   ]
  },
  {
   "cell_type": "code",
   "execution_count": 4,
   "metadata": {},
   "outputs": [
    {
     "name": "stdout",
     "output_type": "stream",
     "text": [
      "abhhtuy\n"
     ]
    }
   ],
   "source": [
    "# 13 Create lambda function for sorting of the string \n",
    "n = input(\"Enter the string: \")\n",
    "\n",
    "sort_string = lambda n: \"\".join(sorted(n))     \n",
    "print(sort_string(n)) "
   ]
  },
  {
   "cell_type": "code",
   "execution_count": null,
   "metadata": {},
   "outputs": [],
   "source": [
    "#14. Create a generator which will generate runtime unique value as ABC0001, ABC0002, ABC0003…"
   ]
  },
  {
   "cell_type": "code",
   "execution_count": 5,
   "metadata": {},
   "outputs": [
    {
     "name": "stdout",
     "output_type": "stream",
     "text": [
      "Error: Invalid PAN format (must be AAAAA1111X)\n"
     ]
    }
   ],
   "source": [
    "#15.15. Create a decorator to check if all input values are alpha numeric and based on it check PAN detail AAAAA1111X , \n",
    "# rec.no first 3 chr next 5 number\n",
    "import re\n",
    "\n",
    "def pan_validate(func):\n",
    "\n",
    "    def wrapper(pan):\n",
    "        if not re.match(r\"^[A-Z]{5}[0-9]{4}[A-Z]$\", pan):\n",
    "            return \"Error: Invalid PAN format (must be AAAAA1111X)\"\n",
    "        return func(pan)\n",
    "    \n",
    "    return wrapper\n",
    "\n",
    "@pan_validate\n",
    "def checkpan(pan):\n",
    "    return f\"Valid PAN: {pan}\"\n",
    "\n",
    "number = input(\"Enter PAN number: \").upper()  \n",
    "print(checkpan(number))"
   ]
  },
  {
   "cell_type": "code",
   "execution_count": null,
   "metadata": {},
   "outputs": [
    {
     "name": "stdout",
     "output_type": "stream",
     "text": [
      "{'Addition': 8.0, 'Subtraction': 2.0, 'Multiplication': 15.0, 'Division': 1.6666666666666667, 'Modulus': 2.0, 'Exponentiation': 125.0, 'Floor Division': 1.0}\n"
     ]
    }
   ],
   "source": [
    "#16. Accept 2 values from user and perform all arithmetic operations and return all\n",
    "def math_operation(a, b):\n",
    "    addition = a + b\n",
    "    subtraction = a - b\n",
    "    multiplication = a * b\n",
    "    division = a / b if b != 0 else \"cant make operation\"\n",
    "    modulus = a % b if b != 0 else \"cant make operation\"\n",
    "    exponentiation = a ** b\n",
    "    floor_division = a // b if b != 0 else \"cant make operation\"\n",
    "    \n",
    "    return {\n",
    "        \"Addition\": addition,\n",
    "        \"Subtraction\": subtraction,\n",
    "        \"Multiplication\": multiplication,\n",
    "        \"Division\": division,\n",
    "        \"Modulus\": modulus,\n",
    "        \"Exponentiation\": exponentiation,\n",
    "        \"Floor Division\": floor_division\n",
    "    }\n",
    "num1 = float(input(\"Enter first number: \"))\n",
    "num2 = float(input(\"Enter second number: \"))\n",
    "\n",
    "results = math_operation(num1, num2)\n",
    "print(results)"
   ]
  },
  {
   "cell_type": "code",
   "execution_count": null,
   "metadata": {},
   "outputs": [],
   "source": [
    "#17. Ask user to enter any 3 input e.g name, marks , mobile_num\n",
    "#if name is with other special characters then it should not not ask for next makrs input\n",
    "#note\n",
    "#Create separate functions for validation of every variable \n",
    "#Every single block should have proper exception\n",
    "#Every function must have the docstring\n",
    "#Once the validation is done dictionary has to be created and store the dictionary to one txt file"
   ]
  },
  {
   "cell_type": "code",
   "execution_count": null,
   "metadata": {},
   "outputs": [],
   "source": [
    "#18. Segregate file in small , medium and large size in different folder\n",
    "#filesize less than and equal to 10KB is small file\n",
    "#filesize more than 10 KB is the medium file\n",
    "#filesize more than 40 kb is the large file \n",
    "# create the log file\n",
    "import os\n",
    "import shutil\n"
   ]
  },
  {
   "cell_type": "code",
   "execution_count": null,
   "metadata": {},
   "outputs": [],
   "source": [
    "for i in os.listdir(\"D:\\\\Sushmita_folder\"):\n",
    "    filename=\"D:\\\\Sushmita_folder\"+'//'+i\n",
    "    #sz =(os.stat(\"C:\\Users\\Swami\\OneDrive\\Pictures\"+i).st_size)/1024\n",
    "    sz=os.stat(filename).st_size/1000\n",
    "    print(filename, sz,\"kb\")\n",
    "    if sz>0 and sz<=10:\n",
    "        shutil.copy(filename,\"D:\\\\Assignment_folder\\\\s_f\")\n",
    "    elif sz>10 and sz<=40:\n",
    "        shutil.copy(filename,\"D:\\\\Assignment_folder\\\\m_f\")\n",
    "    else:\n",
    "        shutil.copy(filename,\"D:\\\\Assignment_folder\\\\l_f\")"
   ]
  },
  {
   "cell_type": "code",
   "execution_count": 12,
   "metadata": {},
   "outputs": [
    {
     "name": "stdout",
     "output_type": "stream",
     "text": [
      "\n",
      "Sr.  Menu      Quantity   Price      Total\n",
      "============================================================\n",
      "1    1                         1          11.00      11.00     \n",
      "============================================================\n",
      "Grand Total:                                       11.00     \n"
     ]
    }
   ],
   "source": [
    "#19. In the hotel user is entering the details of menu, quantity and printing the bill.\n",
    "# number of menu may varies with customer's order.\n",
    "# Input the number of items\n",
    "items = []\n",
    "for i in range(int(input(\"Enter the number of items: \"))):\n",
    "    desc = input(f\"\\nItem {i + 1} Menu: \")\n",
    "    qty = int(input(\"Quantity: \"))\n",
    "    price = float(input(\"Price: \"))\n",
    "    items.append({\"Menu\": desc, \"quantity\": qty, \"price\": price})\n",
    "\n",
    "print(\"\\nSr.  Menu      Quantity   Price      Total\")\n",
    "print(\"=\" * 60)\n",
    "grand_total = 0\n",
    "for sr_no, item in enumerate(items, start=1):\n",
    "    total = item[\"quantity\"] * item[\"price\"]\n",
    "    grand_total += total\n",
    "    print(f\"{sr_no:<4} {item['Menu']:<25} {item['quantity']:<10} {item['price']:<10.2f} {total:<10.2f}\")\n",
    "\n",
    "print(\"=\" * 60)\n",
    "print(f\"{'Grand Total:':<50} {grand_total:<10.2f}\")"
   ]
  },
  {
   "cell_type": "code",
   "execution_count": null,
   "metadata": {},
   "outputs": [],
   "source": [
    "# 20. Ask user to enter the valid file path and\n",
    "#  check which word is having more repetition in the file\n",
    "import re\n"
   ]
  },
  {
   "cell_type": "code",
   "execution_count": 29,
   "metadata": {},
   "outputs": [
    {
     "name": "stdout",
     "output_type": "stream",
     "text": [
      "count is [<re.Match object; span=(1770, 1774), match='find'>, <re.Match object; span=(2210, 2214), match='find'>]\n",
      "repeatition is 2\n"
     ]
    }
   ],
   "source": [
    "file=input(\"enter the file path\")\n",
    "word=input(\"enter any word\")\n",
    "word1=word.lower()\n",
    "f=open(file,'r')\n",
    "file=f.read()\n",
    "count=list(re.finditer(word1,file))\n",
    "number=len(count)\n",
    "print(\"count is\",count)\n",
    "print(\"repeatition is\",number)\n",
    "#finditer gives position in list"
   ]
  },
  {
   "cell_type": "code",
   "execution_count": 30,
   "metadata": {},
   "outputs": [],
   "source": [
    "#21. Create a function which will accept the word and the file path \n",
    "# and returns the dictionary as {word: occurances}\n",
    "import os"
   ]
  },
  {
   "cell_type": "code",
   "execution_count": null,
   "metadata": {},
   "outputs": [],
   "source": [
    "def file_word(word,filepath):\n",
    "    if not os\n",
    "    filepath=input('enter path of file')"
   ]
  },
  {
   "cell_type": "code",
   "execution_count": 53,
   "metadata": {},
   "outputs": [],
   "source": [
    "#23. Based on logic mentioned in question number 8 create the class\n",
    "class user():\n",
    "    # def __init__(self):\n",
    "    #     pass\n",
    "\n",
    "    def d1(self):\n",
    "        di={}\n",
    "        n=int(input(\"enter no of pair\"))\n",
    "        for i in range (n):\n",
    "            key=input(\"enter key\")\n",
    "         \n",
    "            value=input(\"enter value\")\n",
    "            di[key]=value\n",
    "            for key,value in di.items():\n",
    "                print(f\"key:{key}  \\n value:{value}\")\n",
    "            \n",
    "    "
   ]
  },
  {
   "cell_type": "code",
   "execution_count": 54,
   "metadata": {},
   "outputs": [
    {
     "name": "stdout",
     "output_type": "stream",
     "text": [
      "key:r  \n",
      " value:3\n"
     ]
    }
   ],
   "source": [
    "a=user()\n",
    "a.d1()"
   ]
  },
  {
   "cell_type": "code",
   "execution_count": null,
   "metadata": {},
   "outputs": [],
   "source": [
    "#24. Ask user to enter the folder path. Folder may contain more than one file \n",
    "# and with different extensions. \n",
    "# Read only text file and return the more repetitive word\n",
    "import os\n",
    "import re\n",
    "from collections import Counter"
   ]
  },
  {
   "cell_type": "code",
   "execution_count": null,
   "metadata": {},
   "outputs": [],
   "source": [
    "folder = input(\"Enter folder path: \")\n",
    "\n",
    "word_count = Counter()\n",
    "\n",
    "for file in os.listdir(folder):\n",
    "    if file.endswith(\".txt\"):\n",
    "        with open(os.path.join(folder, file), \"r\") as f:\n",
    "            words = re.findall(r'\\b\\w+\\b', f.read().lower())\n",
    "            word_count.update(words)\n",
    "\n",
    "if word_count:\n",
    "    word, count = word_count.most_common(1)[0]\n",
    "    print(f\"Most repetitive word: '{word}' ({count} times)\")\n",
    "else:\n",
    "    print(\"No words found\")\n"
   ]
  },
  {
   "cell_type": "code",
   "execution_count": null,
   "metadata": {},
   "outputs": [],
   "source": [
    "#25. Create a class for file reading\n",
    "class read():\n",
    "    def read_file(self):\n",
    "        try:\n",
    "            with open(self.file_path, 'r' ) as file:\n",
    "                return file.read()\n",
    "        except Exception as e:\n",
    "            return f\"Error: {str(e)}\"\n",
    "\n",
    "        file=input(\"enter path\")\n",
    "        file1=f.readlines()"
   ]
  },
  {
   "cell_type": "code",
   "execution_count": 57,
   "metadata": {},
   "outputs": [
    {
     "data": {
      "text/plain": [
       "\"Error: 'read' object has no attribute 'file_path'\""
      ]
     },
     "execution_count": 57,
     "metadata": {},
     "output_type": "execute_result"
    }
   ],
   "source": [
    "a=read()\n",
    "a.read_file()"
   ]
  },
  {
   "cell_type": "code",
   "execution_count": null,
   "metadata": {},
   "outputs": [],
   "source": [
    "def key_value():\n",
    "    num_pairs = int(input(\"How many key-value pairs do you want to enter? \"))  \n",
    "    keys = [input(\"Enter key {}: \".format(i+1)) for i in range(num_pairs)]\n",
    "    values = [input(\"Enter value for {}: \".format(key)) for key in keys]\n",
    "   \n",
    " "
   ]
  },
  {
   "cell_type": "code",
   "execution_count": 66,
   "metadata": {},
   "outputs": [],
   "source": [
    "def dictionary(**d):\n",
    "    a={'s':12,'p':45,'u':'y'}\n",
    "    keys=[key for key,value in a.items() if isinstance(value,(int,float))]\n",
    "    return keys"
   ]
  },
  {
   "cell_type": "code",
   "execution_count": 67,
   "metadata": {},
   "outputs": [
    {
     "data": {
      "text/plain": [
       "['s', 'p']"
      ]
     },
     "execution_count": 67,
     "metadata": {},
     "output_type": "execute_result"
    }
   ],
   "source": [
    "dictionary()"
   ]
  },
  {
   "cell_type": "code",
   "execution_count": 13,
   "metadata": {},
   "outputs": [
    {
     "data": {
      "text/plain": [
       "['a', 'b']"
      ]
     },
     "execution_count": 13,
     "metadata": {},
     "output_type": "execute_result"
    }
   ],
   "source": [
    "#26. Create a function which will accept the dictionary. \n",
    "# Dictionary may have values any date type format. \n",
    "# If values are in integer or float then return respective key\n",
    "def d1(d):\n",
    "    keys=[key for key,value in d.items() if isinstance(value,(int,float))]\n",
    "    return keys\n",
    "\n",
    "data={\"a\":1,\"b\":2.0,\"c\":\"str\",\"d\":[1,2,3]}\n",
    "d1(data)"
   ]
  },
  {
   "cell_type": "code",
   "execution_count": null,
   "metadata": {},
   "outputs": [],
   "source": [
    "#27. Create one decorator having exception logic inside it \n",
    "# and create another function which will refer to the decorator in case of errors"
   ]
  },
  {
   "cell_type": "code",
   "execution_count": 68,
   "metadata": {},
   "outputs": [],
   "source": [
    "#28. Create a class User. User will be instantiated based on key available in the dictionary. \n",
    "# If dictionary is not having the key then generate error. \n",
    "# If dictionary is having the key then display values against the same.\n",
    "import sys"
   ]
  },
  {
   "cell_type": "code",
   "execution_count": 69,
   "metadata": {},
   "outputs": [],
   "source": [
    "class User():\n",
    "    def dict(self):\n",
    "        try:\n",
    "            dict1={'A':12,'B':13,'C':14}\n",
    "            for i in dict1:\n",
    "                j=dict1.keys()\n",
    "                #print(j)\n",
    "            if (j==dict1.keys()):\n",
    "                    print(dict1.keys())\n",
    "            else:\n",
    "                    raise Exception(\"there is no such keys\")\n",
    "        except Exception as e:\n",
    "            print(sys.exc_info()[1])"
   ]
  },
  {
   "cell_type": "code",
   "execution_count": 70,
   "metadata": {},
   "outputs": [
    {
     "name": "stdout",
     "output_type": "stream",
     "text": [
      "dict_keys(['A', 'B', 'C'])\n"
     ]
    }
   ],
   "source": [
    "u=User()\n",
    "u.dict()"
   ]
  },
  {
   "cell_type": "code",
   "execution_count": null,
   "metadata": {},
   "outputs": [],
   "source": [
    "#29 . Create a class pharma. One user A will enter the medicine name and price. \n",
    "# Another user B will generate the bill based on entry done by the first user"
   ]
  },
  {
   "cell_type": "code",
   "execution_count": 14,
   "metadata": {},
   "outputs": [
    {
     "name": "stdout",
     "output_type": "stream",
     "text": [
      "\n",
      "User A: Enter Medicine Details\n",
      "Medicine 'Paracetamol' added with price: 20.5\n",
      "\n",
      "User B: Generating Bill\n",
      "\n",
      "--- Bill Details ---\n",
      "Paracetamol: 20.5\n",
      "Total Amount: 20.5\n"
     ]
    }
   ],
   "source": [
    "class Pharma:\n",
    "    def __init__(self):\n",
    "        self.medicine = {}\n",
    "\n",
    "    def add_medicine(self, name, price):\n",
    "        if price <= 0:\n",
    "            raise ValueError(\"Price must be greater than zero.\")\n",
    "        self.medicine[name] = price\n",
    "        print(f\"Medicine '{name}' added with price: {price}\")\n",
    "\n",
    "    def generate_bill(self, medicine_list):\n",
    "        total_amount = 0\n",
    "        print(\"\\n--- Bill Details ---\")\n",
    "        for medicine in medicine_list:\n",
    "            if medicine not in self.medicine:\n",
    "                raise KeyError(f\"Medicine '{medicine}' not found in inventory.\")\n",
    "            price = self.medicine[medicine]\n",
    "            total_amount += price\n",
    "            print(f\"{medicine}: {price}\")\n",
    "\n",
    "        print(f\"Total Amount: {total_amount}\")\n",
    "        return total_amount\n",
    "    \n",
    "pharmacy = Pharma()\n",
    "\n",
    "# User A - Adding medicines\n",
    "try:\n",
    "    print(\"\\nUser A: Enter Medicine Details\")\n",
    "    pharmacy.add_medicine(\"Paracetamol\", 20.50)\n",
    "    \n",
    "except ValueError as e:\n",
    "    print(f\"Error: {e}\")\n",
    "\n",
    "# User B - Generating bill\n",
    "try:\n",
    "    print(\"\\nUser B: Generating Bill\")\n",
    "    medicines_to_buy = [\"Paracetamol\"]\n",
    "    pharmacy.generate_bill(medicines_to_buy)\n",
    "except KeyError as e:\n",
    "    print(f\"Error: {e}\")\n"
   ]
  },
  {
   "cell_type": "code",
   "execution_count": 16,
   "metadata": {},
   "outputs": [
    {
     "name": "stdout",
     "output_type": "stream",
     "text": [
      "{7: 1, 26: 2, 124: 5, 171: 7, 197: 5, 244: 20, 281: 1, 302: 10, 333: 11, 374: 1, 376: 12, 427: 13, 469: 195, 478: 14}\n"
     ]
    }
   ],
   "source": [
    "# 3030. Read the file if the file contains number, \n",
    "# then return the dictionary based on position and values of the number.\n",
    "def f1(file_name):\n",
    "    numbers = {}  \n",
    "    \n",
    "    with open(file_name, \"r\") as file:\n",
    "        words = file.read().split()  \n",
    "    \n",
    "    for index, word in enumerate(words):  \n",
    "        if word.isdigit():  \n",
    "            numbers[index] = int(word)  \n",
    "    return numbers\n",
    "\n",
    "\n",
    "file_name = \"D:\\\\BIZ_SQL\\\\SQL_Exam.txt\"  \n",
    "result = f1(file_name)\n",
    "print(result)\n"
   ]
  },
  {
   "cell_type": "code",
   "execution_count": 17,
   "metadata": {},
   "outputs": [
    {
     "name": "stdout",
     "output_type": "stream",
     "text": [
      "{'U1': {7: 1, 26: 2, 124: 5, 171: 7, 197: 5, 244: 20, 281: 1, 302: 10, 333: 11, 374: 1, 376: 12, 427: 13, 469: 195, 478: 14}}\n"
     ]
    }
   ],
   "source": [
    "# 31. Create a class for file reading file if the file contains number, \n",
    "# then return the dictionary based on user object, having sub dictionary position\n",
    "#  and values of the number against that user file.\n",
    "class FileReader:\n",
    "    def __init__(self, file_name):\n",
    "        self.file_name = file_name\n",
    "        self.numbers = {}  # Store position and number\n",
    "\n",
    "    def ex_number(self):\n",
    "        with open(self.file_name, \"r\") as file:\n",
    "            words = file.read().split()\n",
    "\n",
    "        self.numbers = {i: int(word) for i, word in enumerate(words) if word.isdigit()}\n",
    "        return self.numbers\n",
    "\n",
    "\n",
    "file1 = FileReader(r\"D:\\BIZ_SQL\\SQL_Exam.txt\")\n",
    "\n",
    "\n",
    "# Reading numbers from files\n",
    "user_data = {\"U1\": file1.ex_number()}\n",
    "\n",
    "print(user_data)"
   ]
  },
  {
   "cell_type": "code",
   "execution_count": 18,
   "metadata": {},
   "outputs": [],
   "source": [
    "#32. In hotel booking portal, user will enter pan card name and mobile number, \n",
    "# store the same information into \n",
    "# dictionary after successful booking user will get confirmation number.\n",
    "import random"
   ]
  },
  {
   "cell_type": "code",
   "execution_count": null,
   "metadata": {},
   "outputs": [
    {
     "name": "stdout",
     "output_type": "stream",
     "text": [
      "Booking successful! Your confirmation number is 8015\n"
     ]
    }
   ],
   "source": [
    "booking = {}\n",
    "\n",
    "name = input(\"Enter PAN Card Name: \")\n",
    "mobile = input(\"Enter Mobile Number: \")\n",
    "\n",
    "confirm_number = random.randint(1000, 9999)\n",
    "\n",
    "booking[confirm_number] = {\"Name\": name, \"Mobile\": mobile}\n",
    "\n",
    "print(f\"Booking successful! Your confirmation number is {confirm_number}\")\n"
   ]
  },
  {
   "cell_type": "code",
   "execution_count": null,
   "metadata": {},
   "outputs": [],
   "source": [
    "#33. Create a super class user. Having methods register, sing in, sign out. \n",
    "# Super class can be inherited by student, professor, admin\n",
    "#Admin and students can view the marks and professor can enter the marks\n",
    "#But marks can be visible to students on the given result date"
   ]
  },
  {
   "cell_type": "code",
   "execution_count": null,
   "metadata": {},
   "outputs": [],
   "source": [
    "#34.34. Create suitable classes, methods and attributes for resume exchange. \n",
    "# Employee to upload the file and the same file is visible to employer"
   ]
  },
  {
   "cell_type": "code",
   "execution_count": 21,
   "metadata": {},
   "outputs": [
    {
     "name": "stdout",
     "output_type": "stream",
     "text": [
      "sushmita uploaded resume: sush_resume.pdf\n",
      " view of sushmita's resume: sush_resume.pdf\n"
     ]
    }
   ],
   "source": [
    "class Employee:\n",
    "    def __init__(self, name):\n",
    "        self.name = name\n",
    "        self.resume = None\n",
    "\n",
    "    def resume_u(self, file_name):\n",
    "        self.resume = file_name\n",
    "        print(f\"{self.name} uploaded resume: {file_name}\")\n",
    "\n",
    "class Employer:\n",
    "    def resume_v(self, employee):\n",
    "        if employee.resume:\n",
    "            print(f\" view of {employee.name}'s resume: {employee.resume}\")\n",
    "        else:\n",
    "            print(f\"No resume  for {employee.name}\")\n",
    "\n",
    "# Example usage\n",
    "emp = Employee(\"sushmita\")\n",
    "emp.resume_u(\"sush_resume.pdf\")\n",
    "\n",
    "employer = Employer()\n",
    "employer.resume_v(emp)\n"
   ]
  },
  {
   "cell_type": "code",
   "execution_count": 24,
   "metadata": {},
   "outputs": [],
   "source": [
    "#35. Perform the database connectivity and save all employee details in the database\n",
    "# Like name, mobile, address\n",
    "import pyodbc\n"
   ]
  },
  {
   "cell_type": "code",
   "execution_count": 25,
   "metadata": {},
   "outputs": [],
   "source": [
    "conn=pyodbc.connect('Driver={SQL Server};'\n",
    "                    'Server=SUSHMITA;'\n",
    "                    'Database=supply_chain;'\n",
    "                    'Trusted_connection=yes;')\n",
    "cur=conn.cursor()"
   ]
  },
  {
   "cell_type": "code",
   "execution_count": null,
   "metadata": {},
   "outputs": [],
   "source": [
    "cur.execute('SELECT *FROM Biz.emp_info')\n",
    "for cr in cur:\n",
    "    print(cr)"
   ]
  },
  {
   "cell_type": "code",
   "execution_count": null,
   "metadata": {},
   "outputs": [],
   "source": [
    "cur.execute(\"INSERT INTO emp_info(name, mobile, address) values ('sush',12345,'jalgaon')\")"
   ]
  },
  {
   "cell_type": "code",
   "execution_count": null,
   "metadata": {},
   "outputs": [],
   "source": [
    "cur.commit()"
   ]
  }
 ],
 "metadata": {
  "kernelspec": {
   "display_name": "Python 3",
   "language": "python",
   "name": "python3"
  },
  "language_info": {
   "codemirror_mode": {
    "name": "ipython",
    "version": 3
   },
   "file_extension": ".py",
   "mimetype": "text/x-python",
   "name": "python",
   "nbconvert_exporter": "python",
   "pygments_lexer": "ipython3",
   "version": "3.12.3"
  }
 },
 "nbformat": 4,
 "nbformat_minor": 2
}
