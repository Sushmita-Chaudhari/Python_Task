{
 "cells": [
  {
   "cell_type": "code",
   "execution_count": null,
   "metadata": {},
   "outputs": [],
   "source": []
  },
  {
   "cell_type": "markdown",
   "metadata": {},
   "source": [
    "#### Task 3:Generate the bill with proper format to create the bill file. User may enter more than 1 element "
   ]
  },
  {
   "cell_type": "code",
   "execution_count": 1,
   "metadata": {},
   "outputs": [],
   "source": [
    "from datetime import datetime"
   ]
  },
  {
   "cell_type": "code",
   "execution_count": null,
   "metadata": {},
   "outputs": [],
   "source": [
    "# Billing assignment\n",
    "print(\"{:^40}\".format(\"Welcome to Hotel Taj\"))\n",
    "print(\"{:=^40}\".format(\"\"))\n",
    "date=datetime.now()\n",
    "print(date)\n",
    "print(\"{:=^40}\".format(\"\"))\n",
    "print(\"{:} {:>7} {:9} {:9} {:9}\".format('sr_no','item','price','quantity','amount'))\n",
    "items = {'pohe':25,'upma': 30,'idli':40}  #menu\n",
    "quantity = int(input(\"enter the quantity\")) #no_of_items\n",
    "order={}\n",
    "for i in range(quantity):\n",
    "    menu=input(\"enter item\")\n",
    "    no_item=int(input(\"enter number of items\"))\n",
    "    order[menu]=no_item\n",
    "    total=0\n",
    "    total1=0\n",
    "    for i in order:\n",
    "        total+=(item[i]*order[i])\n",
    "        total1+=order[i]\n",
    "        print(\"total is {}\".format(total))\n",
    "                                      #taking_item =input(\"enter ur desired item\")\n"
   ]
  },
  {
   "cell_type": "code",
   "execution_count": null,
   "metadata": {},
   "outputs": [],
   "source": []
  },
  {
   "cell_type": "code",
   "execution_count": null,
   "metadata": {},
   "outputs": [],
   "source": []
  },
  {
   "cell_type": "code",
   "execution_count": null,
   "metadata": {},
   "outputs": [],
   "source": []
  },
  {
   "cell_type": "code",
   "execution_count": null,
   "metadata": {},
   "outputs": [],
   "source": []
  },
  {
   "cell_type": "code",
   "execution_count": null,
   "metadata": {},
   "outputs": [],
   "source": []
  }
 ],
 "metadata": {
  "kernelspec": {
   "display_name": "Python 3",
   "language": "python",
   "name": "python3"
  },
  "language_info": {
   "codemirror_mode": {
    "name": "ipython",
    "version": 3
   },
   "file_extension": ".py",
   "mimetype": "text/x-python",
   "name": "python",
   "nbconvert_exporter": "python",
   "pygments_lexer": "ipython3",
   "version": "3.12.3"
  }
 },
 "nbformat": 4,
 "nbformat_minor": 2
}
