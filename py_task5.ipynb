{
 "cells": [
  {
   "cell_type": "code",
   "execution_count": 1,
   "metadata": {},
   "outputs": [
    {
     "data": {
      "text/plain": [
       "'Hello shsnndb Youe email_id is sjsj@gmail.com'"
      ]
     },
     "execution_count": 1,
     "metadata": {},
     "output_type": "execute_result"
    }
   ],
   "source": [
    "name=input(\"Enter your name\")\n",
    "Email_id=input(\"Enter  valid Email_id\")\n",
    "val=lambda name,Email_id:\"Hello {} Youe email_id is {}\".format(name,Email_id) if Email_id.endswith(\"@gmail.com\")or(\"yahoo.com\") else \"Hello {} invalid email_id\".format(name)\n",
    "val(name,Email_id)"
   ]
  }
 ],
 "metadata": {
  "kernelspec": {
   "display_name": "Python 3",
   "language": "python",
   "name": "python3"
  },
  "language_info": {
   "codemirror_mode": {
    "name": "ipython",
    "version": 3
   },
   "file_extension": ".py",
   "mimetype": "text/x-python",
   "name": "python",
   "nbconvert_exporter": "python",
   "pygments_lexer": "ipython3",
   "version": "3.12.3"
  }
 },
 "nbformat": 4,
 "nbformat_minor": 2
}
