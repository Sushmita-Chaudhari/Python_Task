{
 "cells": [
  {
   "cell_type": "code",
   "execution_count": 3,
   "metadata": {},
   "outputs": [
    {
     "name": "stdout",
     "output_type": "stream",
     "text": [
      "[2, 4, 5, 'sush', 'riya', 'sadan', 4, 67, 35]\n",
      "['sush', 'riya', 'sadan']\n",
      "[2, 4, 5, 4, 67, 35]\n"
     ]
    }
   ],
   "source": [
    "list1=[2,4,5,'sush','riya','sadan',4,67,35]\n",
    "num=[]\n",
    "char=[]\n",
    "\n",
    "for i in list1:\n",
    "    if type(i)==str:\n",
    "        char.append(i)\n",
    "    else:\n",
    "        num.append(i)\n",
    "\n",
    "print(list1)\n",
    "print(char)\n",
    "print(num)"
   ]
  }
 ],
 "metadata": {
  "kernelspec": {
   "display_name": "Python 3",
   "language": "python",
   "name": "python3"
  },
  "language_info": {
   "codemirror_mode": {
    "name": "ipython",
    "version": 3
   },
   "file_extension": ".py",
   "mimetype": "text/x-python",
   "name": "python",
   "nbconvert_exporter": "python",
   "pygments_lexer": "ipython3",
   "version": "3.12.3"
  }
 },
 "nbformat": 4,
 "nbformat_minor": 2
}
