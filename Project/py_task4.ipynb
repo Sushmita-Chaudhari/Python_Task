{
 "cells": [
  {
   "cell_type": "code",
   "execution_count": null,
   "metadata": {},
   "outputs": [],
   "source": []
  },
  {
   "cell_type": "markdown",
   "metadata": {},
   "source": [
    "#### Task 4 Based on database ask user to enter the values and store the same in the variable with validation."
   ]
  },
  {
   "cell_type": "code",
   "execution_count": 2,
   "metadata": {},
   "outputs": [],
   "source": [
    "import re"
   ]
  },
  {
   "cell_type": "code",
   "execution_count": 3,
   "metadata": {},
   "outputs": [
    {
     "name": "stdout",
     "output_type": "stream",
     "text": [
      "None\n",
      "Ertntn Tieijr \n",
      "enter a full name starting each letter with capital\n"
     ]
    }
   ],
   "source": [
    "\n",
    "def name_va\n",
    "l():\n",
    "    name1=input(\"Enter a full name\")\n",
    "    #pattern=\"^[A-Z][A-z]*( [A-z][a-z])*$\"\n",
    "    pattern=\"^[A-Z][a-z]*( [A-Z][a-z]*[a-z])$\"\n",
    "    p=re.match(pattern,name1)\n",
    "    print(p)\n",
    "    print(name1)\n",
    "    if name1==p :\n",
    "        print(\"Name is entered successfully\")\n",
    "    else:\n",
    "        print(\"enter a full name starting each letter with capital\")\n",
    "name_val()\n"
   ]
  },
  {
   "cell_type": "code",
   "execution_count": 21,
   "metadata": {},
   "outputs": [
    {
     "name": "stdout",
     "output_type": "stream",
     "text": [
      "erEtyt@346\n",
      "Successfully\n"
     ]
    }
   ],
   "source": [
    "def Password():\n",
    "    pw=input(\"Enter the Password\")\n",
    "    print(pw)\n",
    "    pattern=\"^[A-z]*[A-z]*[0-9]*[@,#,!,$,%,&,^]\"\n",
    "    if re.match(pattern,pw):\n",
    "       print(\"Successfully\")\n",
    "    else:\n",
    "        print(\"invalid\")\n",
    "Password()"
   ]
  },
  {
   "cell_type": "code",
   "execution_count": 12,
   "metadata": {},
   "outputs": [
    {
     "name": "stdout",
     "output_type": "stream",
     "text": [
      "Invalid name format\n"
     ]
    }
   ],
   "source": [
    "pattern=\"^[A-Z][a-z]*( [A-Z][a-z]*[a-z])$\"\n",
    "from_string=input(\"Enter the string \")\n",
    "re.match(pattern,from_string)\n",
    "if re.match(pattern, from_string):\n",
    "    print(\"Valid: \", from_string)\n",
    "else:\n",
    "    print(\"Invalid name format\")"
   ]
  },
  {
   "cell_type": "code",
   "execution_count": null,
   "metadata": {},
   "outputs": [],
   "source": []
  }
 ],
 "metadata": {
  "kernelspec": {
   "display_name": "Python 3",
   "language": "python",
   "name": "python3"
  },
  "language_info": {
   "codemirror_mode": {
    "name": "ipython",
    "version": 3
   },
   "file_extension": ".py",
   "mimetype": "text/x-python",
   "name": "python",
   "nbconvert_exporter": "python",
   "pygments_lexer": "ipython3",
   "version": "3.12.3"
  }
 },
 "nbformat": 4,
 "nbformat_minor": 2
}
