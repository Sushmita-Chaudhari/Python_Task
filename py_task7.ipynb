{
 "cells": [
  {
   "cell_type": "markdown",
   "metadata": {},
   "source": [
    "## Task 7 Create folder to segreggate files according to size\n"
   ]
  },
  {
   "cell_type": "code",
   "execution_count": null,
   "metadata": {},
   "outputs": [],
   "source": [
    "for i in os.listdir(\"D:\\\\Sushmita_folder\"):\n",
    "    filename=\"D:\\\\Sushmita_folder\\\\\"+i\n",
    "    #sz =(os.stat(\"C:\\Users\\Swami\\OneDrive\\Pictures\"+i).st_size)/1024\n",
    "    sz=os.stat(filename).st_size/1000\n",
    "    print(filename, sz,\"kb\")\n",
    "    if sz >=0 and sz<=100:\n",
    "        shutil.copy(filename,\"D:\\\\Assignment_folder\\\\s_f\")\n",
    "    elif sz>=100 and sz<=800:\n",
    "        shutil.copy(filename,\"D:\\\\Assignment_folder\\\\m_f\")\n",
    "     else:\n",
    "        shutil.copy(filename,\"D:\\\\Assignment_folder\\\\l_f\")"
   ]
  },
  {
   "cell_type": "code",
   "execution_count": null,
   "metadata": {},
   "outputs": [],
   "source": []
  }
 ],
 "metadata": {
  "kernelspec": {
   "display_name": "Python 3",
   "language": "python",
   "name": "python3"
  },
  "language_info": {
   "name": "python",
   "version": "3.12.3"
  }
 },
 "nbformat": 4,
 "nbformat_minor": 2
}
